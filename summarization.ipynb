{
 "cells": [
  {
   "cell_type": "code",
   "execution_count": 1,
   "metadata": {},
   "outputs": [],
   "source": [
    "import wikipedia\n",
    "from nltk.tokenize import sent_tokenize, word_tokenize\n",
    "from nltk.corpus import stopwords\n",
    "import nltk\n",
    "import string\n",
    "from collections import Counter\n",
    "import re\n",
    "import heapq"
   ]
  },
  {
   "cell_type": "code",
   "execution_count": 2,
   "metadata": {},
   "outputs": [
    {
     "name": "stderr",
     "output_type": "stream",
     "text": [
      "[nltk_data] Downloading package punkt to /Users/goncalves/nltk_data...\n",
      "[nltk_data]   Package punkt is already up-to-date!\n",
      "[nltk_data] Downloading package stopwords to\n",
      "[nltk_data]     /Users/goncalves/nltk_data...\n",
      "[nltk_data]   Package stopwords is already up-to-date!\n"
     ]
    },
    {
     "data": {
      "text/plain": [
       "True"
      ]
     },
     "execution_count": 2,
     "metadata": {},
     "output_type": "execute_result"
    }
   ],
   "source": [
    "nltk.download('punkt')\n",
    "nltk.download('stopwords')"
   ]
  },
  {
   "cell_type": "code",
   "execution_count": 3,
   "metadata": {},
   "outputs": [],
   "source": [
    "def content_preprocessing(content):\n",
    "    content = re.sub(r'[.]+(?!([0-9]|\\ |[A-Z]{1}\\.))', r'. ', content)\n",
    "    return content\n",
    "\n",
    "def sentence_tokenizer(content,portuguese):\n",
    "    sentences = []\n",
    "    if portuguese:\n",
    "        sentences = sent_tokenize(content,language='portuguese')\n",
    "    else:\n",
    "        sentences = sent_tokenize(content,language='english')\n",
    "    sentence_list = []\n",
    "    for sentence in sentences:\n",
    "        sentence_list.extend(sentence.split('\\n'))\n",
    "    return sentence_list\n",
    "\n",
    "def word_tokenizer(sentence_list,portuguese):\n",
    "    words = []\n",
    "    for sentence in sentence_list:\n",
    "        if portuguese:\n",
    "            stopword_list = stopwords.words('portuguese')\n",
    "            words.extend([word for word in word_tokenize(sentence,language='portuguese')\n",
    "                         if word not in stopword_list\n",
    "                         and word.isalpha()])\n",
    "        else:\n",
    "            stopword_list = stopwords.words('english')\n",
    "            words.extend([word for word in word_tokenize(sentence,language='english')\n",
    "                         if word not in stopword_list\n",
    "                         and word.isalpha()])\n",
    "    return words\n",
    "\n",
    "def word_frequency(words):\n",
    "    word_frequencies = Counter(words)\n",
    "\n",
    "    maximum_frequency = max(word_frequencies.values())\n",
    "\n",
    "    for word in word_frequencies.keys():\n",
    "        word_frequencies[word] = (word_frequencies[word]/maximum_frequency)\n",
    "    return word_frequencies\n",
    "\n",
    "def sentence_score(sentence_list,word_frequencies,portuguese):\n",
    "    sentence_scores = {}\n",
    "    for sentence in sentence_list:\n",
    "        if(portuguese):\n",
    "            stopword_list = stopwords.words('portuguese')\n",
    "            sent_words = [word for word in word_tokenize(sentence,language='portuguese')\n",
    "                         if word not in stopword_list\n",
    "                         and word.isalpha()]\n",
    "        else:\n",
    "            stopword_list = stopwords.words('english')\n",
    "            sent_words = [word for word in word_tokenize(sentence,language='english')\n",
    "                         if word not in stopword_list\n",
    "                         and word.isalpha()]\n",
    "        for word in sent_words:\n",
    "            if len(sentence.split(' ')) < 30:\n",
    "                if sentence not in sentence_scores.keys():\n",
    "                    sentence_scores[sentence] = word_frequencies[word]\n",
    "                else:\n",
    "                    sentence_scores[sentence] += word_frequencies[word]\n",
    "    return sentence_scores\n",
    "\n",
    "def generate_summary(sentence_list,sentence_scores,result,number_of_phrases,first_paragraph):\n",
    "    summary_sentences = heapq.nlargest(number_of_phrases, sentence_scores, key=sentence_scores.get)\n",
    "    sorted_summary = [sentence for sentence in sentence_list if sentence in summary_sentences]\n",
    "    if(first_paragraph):\n",
    "        summary = result.summary.split('\\n')[0] + '\\n'.join(sorted_summary)\n",
    "    else:\n",
    "        summary = ''.join(sorted_summary)\n",
    "    return(summary)"
   ]
  },
  {
   "cell_type": "code",
   "execution_count": 4,
   "metadata": {},
   "outputs": [
    {
     "name": "stdout",
     "output_type": "stream",
     "text": [
      "Brazil (Portuguese: Brasil; Brazilian Portuguese: [bɾaˈziw]), officially the Federative Republic of Brazil (Portuguese: República Federativa do Brasil), is the largest country in both South America and Latin America. At 8.5 million square kilometers (3.2 million square miles) and with over 211 million people, Brazil is the world's fifth-largest country by area and the sixth most populous. Its capital is Brasília, and its most populous city is São Paulo. The federation is composed of the union of the 26 states and the Federal District. It is the largest country to have Portuguese as an official language and the only one in the Americas; it is also one of the most multicultural and ethnically diverse nations, due to over a century of mass immigration from around the world; as well as the most populous Roman Catholic-majority country.Brazil (Portuguese: Brasil; Brazilian Portuguese: [bɾaˈziw]), officially the Federative Republic of Brazil (Portuguese: República Federativa do Brasil), is the largest country in both South America and Latin America.\n",
      "The word \"Brazil\" likely comes from the Portuguese word for brazilwood, a tree that once grew plentifully along the Brazilian coast.\n",
      "The land now called Brazil was claimed for the Portuguese Empire on 22 April 1500, with the arrival of the Portuguese fleet commanded by Pedro Álvares Cabral.\n",
      "The armed forces of Brazil are the largest in Latin America by active personnel and the largest in terms of military equipment.\n",
      "Brazil is the largest national economy in Latin America, the world's ninth largest economy and the eighth largest in purchasing power parity (PPP) according to 2018 estimates.\n",
      "The country also produces large quantities of beans, peanut, potato, carrot, cashew nuts, tangerine, persimmon, strawberry, guaraná, guava, açaí, Brazil nut, yerba mate, wheat, among others.\n",
      "The purchasing power in Brazil is eroded by the so-called Brazil cost.\n",
      "The world's largest healthcare cooperative Unimed is also located in Brazil, and accounts for 32% of the healthcare insurance market in the country.\n",
      "In the 19th century during the time of the Empire of Brazil, Brazil followed European trends and adopted Neoclassical and Gothic Revival architecture.\n",
      "The colonial architecture of Brazil dates to the early 16th century when Brazil was first explored, conquered and settled by the Portuguese.\n"
     ]
    }
   ],
   "source": [
    "result = wikipedia.page('Brasil')\n",
    "content = result.content\n",
    "\n",
    "content = content_preprocessing(content)\n",
    "\n",
    "sentence_list = sentence_tokenizer(content,False)\n",
    "\n",
    "words = word_tokenizer(sentence_list,False)\n",
    "\n",
    "word_frequencies = word_frequency(words)\n",
    "\n",
    "sentence_scores = sentence_score(sentence_list,word_frequencies,False)\n",
    "\n",
    "number_of_phrases = 10\n",
    "\n",
    "first_paragraph = True\n",
    "\n",
    "summary = generate_summary(sentence_list,sentence_scores,result,number_of_phrases,first_paragraph)\n",
    "\n",
    "print(summary)"
   ]
  },
  {
   "cell_type": "code",
   "execution_count": null,
   "metadata": {},
   "outputs": [],
   "source": []
  }
 ],
 "metadata": {
  "kernelspec": {
   "display_name": "Python 3",
   "language": "python",
   "name": "python3"
  },
  "language_info": {
   "codemirror_mode": {
    "name": "ipython",
    "version": 3
   },
   "file_extension": ".py",
   "mimetype": "text/x-python",
   "name": "python",
   "nbconvert_exporter": "python",
   "pygments_lexer": "ipython3",
   "version": "3.8.3"
  }
 },
 "nbformat": 4,
 "nbformat_minor": 4
}
